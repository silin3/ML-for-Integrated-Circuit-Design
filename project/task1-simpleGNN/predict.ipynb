{
 "cells": [
  {
   "cell_type": "code",
   "execution_count": 2,
   "id": "fa8e38ff-1cea-42c7-b1aa-74acdeda0a61",
   "metadata": {},
   "outputs": [
    {
     "name": "stdout",
     "output_type": "stream",
     "text": [
      "True\n"
     ]
    }
   ],
   "source": [
    "import torch\n",
    "data_dir = \"./graph_data_files/\"\n",
    "\n",
    "print(torch.cuda.is_available())"
   ]
  },
  {
   "cell_type": "code",
   "execution_count": 3,
   "id": "165a0ba1-79b6-4802-999a-f7a13cf3793a",
   "metadata": {},
   "outputs": [],
   "source": [
    "eps = 1e-6"
   ]
  },
  {
   "cell_type": "code",
   "execution_count": 4,
   "id": "4a8de38d-fc9c-4805-abb5-498efa82cb99",
   "metadata": {},
   "outputs": [
    {
     "name": "stderr",
     "output_type": "stream",
     "text": [
      "C:\\Users\\hsbli\\miniconda3\\envs\\pytorch\\Lib\\site-packages\\tqdm\\auto.py:21: TqdmWarning: IProgress not found. Please update jupyter and ipywidgets. See https://ipywidgets.readthedocs.io/en/stable/user_install.html\n",
      "  from .autonotebook import tqdm as notebook_tqdm\n"
     ]
    },
    {
     "name": "stdout",
     "output_type": "stream",
     "text": [
      "6400\n"
     ]
    }
   ],
   "source": [
    "# Load dataset\n",
    "import os\n",
    "\n",
    "device = 'cuda:0'\n",
    "\n",
    "data_size = 6400\n",
    "dataset = []\n",
    "\n",
    "for i in range(data_size):\n",
    "    data_path = data_dir + \"data_\" + str(i) + \".pt\"\n",
    "    if not(os.path.exists(data_path)) :\n",
    "        continue\n",
    "    dd = torch.load(data_path)\n",
    "    dataset.append(dd)\n",
    "print(len(dataset))\n"
   ]
  },
  {
   "cell_type": "code",
   "execution_count": 5,
   "id": "bcb1b0df-9012-4a29-8513-9e6e89452ce5",
   "metadata": {},
   "outputs": [],
   "source": [
    "from torch_geometric.loader import DataLoader\n",
    "\n",
    "train_dataset = dataset[:5400]\n",
    "test_dataset = dataset[5400:]\n",
    "\n",
    "train_loader = DataLoader(train_dataset, batch_size = 64, shuffle = True)\n",
    "test_loader = DataLoader(test_dataset, batch_size = 64, shuffle = True)"
   ]
  },
  {
   "cell_type": "code",
   "execution_count": 6,
   "id": "a78422ad",
   "metadata": {},
   "outputs": [
    {
     "name": "stdout",
     "output_type": "stream",
     "text": [
      "GCN(\n",
      "  (conv1): GCNConv(2, 32)\n",
      "  (bn1): BatchNorm1d(32, eps=1e-05, momentum=0.1, affine=True, track_running_stats=True)\n",
      "  (conv2): GCNConv(32, 32)\n",
      "  (bn2): BatchNorm1d(32, eps=1e-05, momentum=0.1, affine=True, track_running_stats=True)\n",
      "  (generator): Sequential(\n",
      "    (0): Linear(in_features=32, out_features=32, bias=True)\n",
      "    (1): ReLU()\n",
      "    (2): Linear(in_features=32, out_features=32, bias=True)\n",
      "    (3): ReLU()\n",
      "    (4): Linear(in_features=32, out_features=1, bias=True)\n",
      "  )\n",
      ")\n"
     ]
    }
   ],
   "source": [
    "##  The Graph Neuro Network for Task 1  ####\n",
    "import torch\n",
    "\n",
    "from torch.nn import Linear\n",
    "import torch.nn.functional as F\n",
    "from torch_geometric.nn import GCNConv\n",
    "from torch_geometric.nn import global_mean_pool\n",
    "from torch.nn import BatchNorm1d\n",
    "\n",
    "\n",
    "class GCN(torch.nn.Module):\n",
    "    def __init__(self, hidden_channels):\n",
    "        super(GCN, self).__init__()\n",
    "        self.conv1 = GCNConv(2, hidden_channels)\n",
    "        self.bn1 = BatchNorm1d(hidden_channels)\n",
    "        self.conv2 = GCNConv(hidden_channels, hidden_channels)\n",
    "        #self.conv3 = GCNConv(hidden_channels, hidden_channels)\n",
    "        self.bn2 = BatchNorm1d(hidden_channels)\n",
    "        self.generator = torch.nn.Sequential(\n",
    "            torch.nn.Linear(hidden_channels, 32),\n",
    "            torch.nn.ReLU(),\n",
    "            torch.nn.Linear(32, 32),\n",
    "            torch.nn.ReLU(),\n",
    "            torch.nn.Linear(32, 1)\n",
    "        )\n",
    "\n",
    "    def forward(self, x, edge_index, batch):\n",
    "        x = self.conv1(x, edge_index)\n",
    "        x = self.bn1(x)\n",
    "        x = x.relu()\n",
    "        x = self.conv2(x, edge_index)\n",
    "        x = self.bn2(x)\n",
    "        x = x.relu()\n",
    "        #x = self.conv3(x, edge_index)\n",
    "        x = global_mean_pool(x, batch)\n",
    "        x = self.generator(x)\n",
    "        return x\n",
    "\n",
    "model = GCN(hidden_channels = 32)\n",
    "\n",
    "print(model)"
   ]
  },
  {
   "cell_type": "code",
   "execution_count": 10,
   "id": "80caed24",
   "metadata": {},
   "outputs": [
    {
     "name": "stdout",
     "output_type": "stream",
     "text": [
      "epoch = 0, MAPE loss = 68.20688843727112 %, MSE loss = 0.012361928820610046\n",
      "epoch = 1, MAPE loss = 63.93135190010071 %, MSE loss = 0.010783136822283268\n",
      "epoch = 2, MAPE loss = 64.41999673843384 %, MSE loss = 0.011614982038736343\n",
      "epoch = 3, MAPE loss = 63.46731781959534 %, MSE loss = 0.010882344096899033\n",
      "epoch = 4, MAPE loss = 67.23232865333557 %, MSE loss = 0.012490691617131233\n",
      "epoch = 5, MAPE loss = 63.1655216217041 %, MSE loss = 0.01112994272261858\n",
      "epoch = 6, MAPE loss = 69.60335969924927 %, MSE loss = 0.013543766923248768\n",
      "epoch = 7, MAPE loss = 65.35255908966064 %, MSE loss = 0.011233385652303696\n",
      "epoch = 8, MAPE loss = 67.72045493125916 %, MSE loss = 0.012265411205589771\n",
      "epoch = 9, MAPE loss = 62.24052906036377 %, MSE loss = 0.0108110336586833\n",
      "epoch = 10, MAPE loss = 62.89258599281311 %, MSE loss = 0.0104537233710289\n",
      "epoch = 11, MAPE loss = 65.91620445251465 %, MSE loss = 0.014935337007045746\n",
      "epoch = 12, MAPE loss = 62.39105463027954 %, MSE loss = 0.010864432901144028\n",
      "epoch = 13, MAPE loss = 63.698333501815796 %, MSE loss = 0.012114404700696468\n",
      "epoch = 14, MAPE loss = 63.13440799713135 %, MSE loss = 0.011541148647665977\n"
     ]
    }
   ],
   "source": [
    "model = GCN(hidden_channels = 32)\n",
    "\n",
    "model.load_state_dict(torch.load(\"model_bn.pth\"))\n",
    "model.to(device)\n",
    "\n",
    "optimizer = torch.optim.Adam(model.parameters(), lr = 0.002)\n",
    "criterion = torch.nn.MSELoss()\n",
    "\n",
    "\n",
    "##################################################################################################\n",
    "\n",
    "def train():\n",
    "    model.train()\n",
    "\n",
    "    for data in train_loader:\n",
    "        data = data.to(device)\n",
    "        out = model(data.x, data.edge_index, data.batch)\n",
    "        loss = criterion(out.squeeze(), data.y)\n",
    "        loss.backward()\n",
    "        optimizer.step()\n",
    "        optimizer.zero_grad()\n",
    "\n",
    "def test(loader):\n",
    "    model.eval()\n",
    "    tot_graphs = 0\n",
    "    tot_MSE = 0\n",
    "    tot_SMAPE = 0\n",
    "\n",
    "    for data in loader:        \n",
    "        data = data.to(device)\n",
    "        out = model(data.x, data.edge_index, data.batch)\n",
    "        out = out.squeeze()\n",
    "        \n",
    "        loss = criterion(out, data.y)\n",
    "        tot_MSE += loss * data.y.shape[0]\n",
    "\n",
    "        smape = torch.sum(torch.abs(out - data.y) / (torch.abs(data.y) + torch.abs(out)))\n",
    "        tot_SMAPE += smape\n",
    "        \n",
    "        tot_graphs += data.y.shape[0]\n",
    "\n",
    "    return (tot_SMAPE / tot_graphs, tot_MSE / tot_graphs)\n",
    "    \n",
    "##################################################################################################\n",
    "    \n",
    "_epoch = 15\n",
    "\n",
    "best_loss = float('inf')\n",
    "\n",
    "for epoch in range(_epoch):\n",
    "    train()\n",
    "    (mape, mse) = test(test_loader)\n",
    "    print(f\"epoch = {epoch}, MAPE loss = {mape.item() * 100} %, MSE loss = {mse}\")\n",
    "    if mse < best_loss :\n",
    "        torch.save(model.state_dict(), 'model_bn_predict_diff.pth')\n"
   ]
  },
  {
   "cell_type": "code",
   "execution_count": 7,
   "id": "20216d3e-6dd2-4dfe-836d-0cc188b2b183",
   "metadata": {},
   "outputs": [
    {
     "name": "stdout",
     "output_type": "stream",
     "text": [
      "average SMAPE = 49.74025649864732%\n",
      "# samples of SMAPE <= 20% = 327\n"
     ]
    }
   ],
   "source": [
    "test_model = GCN(hidden_channels = 32)\n",
    "test_model.load_state_dict(torch.load(\"model_bn.pth\"))\n",
    "\n",
    "#test_model.to(device)\n",
    "test_model.eval()\n",
    "\n",
    "tot = 0\n",
    "hit = 0\n",
    "for i in range(1000):\n",
    "    dd = test_loader.dataset[i]\n",
    "#    dd.to(device)\n",
    "    tar = dd.y.item()\n",
    "    res = test_model(dd.x, dd.edge_index, dd.batch)\n",
    "    y_pred = res.item()\n",
    "    this_smape = abs((y_pred - tar) / (abs(y_pred) + abs(tar)))\n",
    "    tot = tot + this_smape * 0.1\n",
    "    if this_smape < 0.2:\n",
    "        hit += 1\n",
    "\n",
    "print(f\"average SMAPE = {tot}%\")\n",
    "print(f\"# samples of SMAPE <= 20% = {hit}\")"
   ]
  },
  {
   "cell_type": "code",
   "execution_count": 9,
   "id": "26aaa01d",
   "metadata": {},
   "outputs": [
    {
     "name": "stdout",
     "output_type": "stream",
     "text": [
      "None\n",
      "target = 0.013895466923713684, res = 0.10496320575475693, SMAPE = 76.61850564106017 %\n"
     ]
    }
   ],
   "source": [
    "for i in range(20):\n",
    "    dd = test_loader.dataset[i]\n",
    " #   dd.to(device)\n",
    "    tar = dd.y.item()\n",
    "    res = test_model(dd.x, dd.edge_index, dd.batch)\n",
    "    y_pred = res.item()\n",
    "    this_smape = abs((y_pred - tar) / (abs(y_pred) + abs(tar)))\n",
    "    print(f\"target = {tar}, res = {y_pred}, SMAPE = {this_smape * 100} %\")"
   ]
  },
  {
   "cell_type": "code",
   "execution_count": null,
   "id": "6aa7fe24",
   "metadata": {},
   "outputs": [],
   "source": []
  }
 ],
 "metadata": {
  "kernelspec": {
   "display_name": "Python [conda env:pytorch]",
   "language": "python",
   "name": "conda-env-pytorch-py"
  },
  "language_info": {
   "codemirror_mode": {
    "name": "ipython",
    "version": 3
   },
   "file_extension": ".py",
   "mimetype": "text/x-python",
   "name": "python",
   "nbconvert_exporter": "python",
   "pygments_lexer": "ipython3",
   "version": "3.11.9"
  }
 },
 "nbformat": 4,
 "nbformat_minor": 5
}
